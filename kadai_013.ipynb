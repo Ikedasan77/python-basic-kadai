{
  "nbformat": 4,
  "nbformat_minor": 0,
  "metadata": {
    "colab": {
      "provenance": []
    },
    "kernelspec": {
      "name": "python3",
      "display_name": "Python 3"
    },
    "language_info": {
      "name": "python"
    }
  },
  "cells": [
    {
      "cell_type": "code",
      "source": [
        "def calculate_price_with_tax(price, tax_rate=0.1):\n",
        "    \"\"\"\n",
        "    商品の価格と消費税率を受け取り、消費税を加えた価格を返す関数\n",
        "\n",
        "    :param price: 商品の価格 (float)\n",
        "    :param tax_rate: 消費税率 (float, default 0.1 for 10%)\n",
        "    :return: 消費税を加えた価格 (float)\n",
        "    \"\"\"\n",
        "    return price * (1 + tax_rate)\n",
        "\n",
        "# 商品の価格を直接変数に設定\n",
        "price = 15000\n",
        "\n",
        "# 関数を呼び出して消費税を加えた価格を計算\n",
        "total_price = calculate_price_with_tax(price)\n",
        "\n",
        "# 消費税を加えた価格を表示\n",
        "print(total_price)\n"
      ],
      "metadata": {
        "colab": {
          "base_uri": "https://localhost:8080/"
        },
        "id": "nWRY11mOAsbd",
        "outputId": "884133ec-ddd1-458e-c444-1585ab865cda"
      },
      "execution_count": 22,
      "outputs": [
        {
          "output_type": "stream",
          "name": "stdout",
          "text": [
            "16500.0\n"
          ]
        }
      ]
    }
  ]
}