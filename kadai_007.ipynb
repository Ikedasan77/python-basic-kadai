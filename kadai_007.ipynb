{
  "nbformat": 4,
  "nbformat_minor": 0,
  "metadata": {
    "colab": {
      "provenance": []
    },
    "kernelspec": {
      "name": "python3",
      "display_name": "Python 3"
    },
    "language_info": {
      "name": "python"
    }
  },
  "cells": [
    {
      "cell_type": "code",
      "execution_count": null,
      "metadata": {
        "id": "eQWiSpmpU3N9"
      },
      "outputs": [],
      "source": [
        "\n",
        "array = [\"月曜日は晴れです\",\"火曜日は雨です\",\"水曜日は晴れです\",\"木曜日は晴れです\",\"金曜日は曇りです\",\"土曜日は曇りのち雨です\",\"日曜日は雷雨です\"]\n",
        "\n",
        "dictionary = {\"mon\": \"晴れ\",\"tue\": \"雨\",\"wed\": \"晴れ\",\"thu\": \"晴れ\",\"fri\": \"曇り\",\"sat\": \"曇りのち雨\",\"sun\": \"雷雨\"}\n",
        "\n",
        "# 水曜日の天気予報をリストから取り出して出力\n",
        "print(\"リストからの水曜日の天気予報: \" + array[2])\n",
        "\n",
        "# 水曜日の天気予報をディクショナリから取り出して出力\n",
        "print(\"ディクショナリからの水曜日の天気予報: \" + dictionary[\"wed\"])\n"
      ]
    }
  ]
}