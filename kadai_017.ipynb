{
  "nbformat": 4,
  "nbformat_minor": 0,
  "metadata": {
    "colab": {
      "provenance": []
    },
    "kernelspec": {
      "name": "python3",
      "display_name": "Python 3"
    },
    "language_info": {
      "name": "python"
    }
  },
  "cells": [
    {
      "cell_type": "code",
      "source": [
        "class Human:\n",
        "    def __init__(self, name, age):\n",
        "        self.name = name\n",
        "        self.age = age\n",
        "\n",
        "#  f-stringは、文字列リテラルの前にfを付け、その文字列内で{}（中括弧）を使用して変数や式を埋め込むことができます。\n",
        "    def check_adult(self):\n",
        "        if self.age >= 20:\n",
        "            print(f\"{self.name}は大人です。\")\n",
        "        else:\n",
        "            print(f\"{self.name}は大人ではありません。\")\n",
        "\n",
        "# 複数のHumanクラスのインスタンスを生成し、リストに追加\n",
        "humans = [\n",
        "    Human(\"侍太郎\", 36),\n",
        "    Human(\"侍花子\", 30),\n",
        "    Human(\"侍次郎\", 21),\n",
        "    Human(\"侍一郎\", 18)\n",
        "]\n",
        "\n",
        "# リストの要素数分だけcheck_adultメソッドを呼び出し\n",
        "for human in humans:\n",
        "    human.check_adult()\n"
      ],
      "metadata": {
        "colab": {
          "base_uri": "https://localhost:8080/"
        },
        "id": "FG-QeXWDNaEU",
        "outputId": "da8dc178-112b-468c-c2b6-392314b626c9"
      },
      "execution_count": 7,
      "outputs": [
        {
          "output_type": "stream",
          "name": "stdout",
          "text": [
            "侍太郎は大人です。\n",
            "侍花子は大人です。\n",
            "侍次郎は大人です。\n",
            "侍一郎は大人ではありません。\n"
          ]
        }
      ]
    }
  ]
}