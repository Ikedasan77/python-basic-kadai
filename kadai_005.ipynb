{
  "nbformat": 4,
  "nbformat_minor": 0,
  "metadata": {
    "colab": {
      "provenance": []
    },
    "kernelspec": {
      "name": "python3",
      "display_name": "Python 3"
    },
    "language_info": {
      "name": "python"
    }
  },
  "cells": [
    {
      "cell_type": "code",
      "source": [
        "upper = int(\"10\")\n",
        "lower = int(\"20\")\n",
        "height = int(\"5\")\n",
        "\n",
        "# 台形の計算結果\n",
        "area = (upper + lower) * height / 2\n",
        "\n",
        "print(f\"公式: 台形の面積 = {area}cm²\")\n"
      ],
      "metadata": {
        "colab": {
          "base_uri": "https://localhost:8080/"
        },
        "id": "uuc1F7BI-v-d",
        "outputId": "568b3f1e-513a-4774-eab9-78395a35de52"
      },
      "execution_count": null,
      "outputs": [
        {
          "output_type": "stream",
          "name": "stdout",
          "text": [
            "公式: 台形の面積 = 75.0cm²\n"
          ]
        }
      ]
    },
    {
      "cell_type": "code",
      "source": [],
      "metadata": {
        "id": "SptobrgoNhYR"
      },
      "execution_count": null,
      "outputs": []
    }
  ]
}