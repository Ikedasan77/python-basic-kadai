{
  "nbformat": 4,
  "nbformat_minor": 0,
  "metadata": {
    "colab": {
      "provenance": []
    },
    "kernelspec": {
      "name": "python3",
      "display_name": "Python 3"
    },
    "language_info": {
      "name": "python"
    }
  },
  "cells": [
    {
      "cell_type": "code",
      "execution_count": 13,
      "metadata": {
        "colab": {
          "base_uri": "https://localhost:8080/"
        },
        "id": "QJ8oUFp0yUtH",
        "outputId": "c6e5b5fe-0a65-4780-d31b-a38302a4b90a"
      },
      "outputs": [
        {
          "output_type": "stream",
          "name": "stdout",
          "text": [
            "Name: 侍太郎, Age: 36\n"
          ]
        }
      ],
      "source": [
        "# Humanクラスの定義\n",
        "class Human:\n",
        "    # 初期化メソッド\n",
        "    def __init__(self, name, age):\n",
        "        self.name = name\n",
        "        self.age = age\n",
        "\n",
        "    # nameとageを標準出力するメソッド\n",
        "    def printinfo(self):\n",
        "        print(f'Name: {self.name}, Age: {self.age}')\n",
        "\n",
        "# Humanクラスのインスタンス化\n",
        "user = Human('侍太郎', 36)\n",
        "\n",
        "# printinfoメソッドの呼び出し\n",
        "user.printinfo()\n"
      ]
    }
  ]
}